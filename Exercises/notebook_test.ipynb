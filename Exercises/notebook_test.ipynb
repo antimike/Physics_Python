{
 "cells": [
  {
   "cell_type": "markdown",
   "metadata": {},
   "source": [
    "# Test of Jupyter notebook Vim plugin"
   ]
  },
  {
   "cell_type": "code",
   "execution_count": null,
   "metadata": {
    "lines_to_next_cell": 0
   },
   "outputs": [],
   "source": [
    "import sys\n",
    "import json\n",
    "\n",
    "print('Hello world')\n",
    "\n",
    "def some_function(args):\n",
    "    return\n",
    "\n",
    "def victory():\n",
    "    print('Victory is mine!')\n",
    "\n",
    "def some_other_function(*args, **kwargs):\n",
    "    # Goddamn this is annoying\n",
    "    pass\n",
    "\n",
    "\n",
    "class Debugger:\n",
    "    def __init__(self):\n",
    "        pass"
   ]
  },
  {
   "cell_type": "markdown",
   "metadata": {},
   "source": []
  }
 ],
 "metadata": {
  "jupytext": {
   "cell_metadata_filter": "-all",
   "main_language": "python",
   "notebook_metadata_filter": "-all"
  }
 },
 "nbformat": 4,
 "nbformat_minor": 4
}
